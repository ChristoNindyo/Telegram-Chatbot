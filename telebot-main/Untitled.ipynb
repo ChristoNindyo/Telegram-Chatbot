{
 "cells": [
  {
   "cell_type": "code",
   "execution_count": 32,
   "id": "ba8d211b",
   "metadata": {},
   "outputs": [
    {
     "name": "stdout",
     "output_type": "stream",
     "text": [
      "Length of TOKEN: 46 characters\n"
     ]
    }
   ],
   "source": [
    "from dotenv import load_dotenv\n",
    "import os\n",
    "\n",
    "load_dotenv()\n",
    "TOKEN = os.getenv('TOKEN')\n",
    "\n",
    "print(f'Length of TOKEN: {len(TOKEN)} characters')"
   ]
  },
  {
   "cell_type": "code",
   "execution_count": 33,
   "id": "d6ad21cf",
   "metadata": {},
   "outputs": [],
   "source": [
    "import telebot\n",
    "bot = telebot.TeleBot(TOKEN)"
   ]
  },
  {
   "cell_type": "code",
   "execution_count": 34,
   "id": "fc7ae8f6",
   "metadata": {},
   "outputs": [
    {
     "name": "stdout",
     "output_type": "stream",
     "text": [
      "<class 'telebot.types.Message'>\n",
      "{'content_type': 'text', 'id': 204, 'message_id': 204, 'from_user': {'id': 727286868, 'is_bot': False, 'first_name': 'Algoritma', 'username': 'AlgoCapstone', 'last_name': None, 'language_code': 'en', 'can_join_groups': None, 'can_read_all_group_messages': None, 'supports_inline_queries': None}, 'date': 1622745226, 'chat': {'id': 727286868, 'type': 'private', 'title': None, 'username': 'AlgoCapstone', 'first_name': 'Algoritma', 'last_name': None, 'photo': None, 'bio': None, 'description': None, 'invite_link': None, 'pinned_message': None, 'permissions': None, 'slow_mode_delay': None, 'sticker_set_name': None, 'can_set_sticker_set': None, 'linked_chat_id': None, 'location': None}, 'forward_from': None, 'forward_from_chat': None, 'forward_from_message_id': None, 'forward_signature': None, 'forward_sender_name': None, 'forward_date': None, 'reply_to_message': None, 'edit_date': None, 'media_group_id': None, 'author_signature': None, 'text': '/help', 'entities': [<telebot.types.MessageEntit\n"
     ]
    }
   ],
   "source": [
    "import pickle\n",
    "\n",
    "with open('cache/message_object.pkl', 'rb') as f:\n",
    "    message = pickle.load(f)\n",
    "    print(type(message)) # print object type\n",
    "    print(str(message)[:1000]) # print only the first 1000 characters of message content"
   ]
  },
  {
   "cell_type": "code",
   "execution_count": 35,
   "id": "e92fd4ec",
   "metadata": {},
   "outputs": [
    {
     "name": "stdout",
     "output_type": "stream",
     "text": [
      "I was developed by *Christopher Nindyo - SPARTA* as [Algoritma Academy](https://algorit.ma/) Data Analytics Specialization capstone project.\n",
      "\n",
      "The data is static and downloaded from [Kaggle](https://www.kaggle.com/madislemsalu/facebook-ad-campaign) provided by [Madis_Lemsalu](https://www.kaggle.com/madislemsalu).\n",
      "\n",
      "Please find the complete script on [GitHub](https://github.com/ChristoNindyo/Telegram-Chatbot)\n",
      "\n",
      "*if you want more information*\n",
      "/help - List of available commands\n",
      "\n",
      ".\n"
     ]
    }
   ],
   "source": [
    "from string import Template\n",
    "\n",
    "# TO DO: subtitute text with static values\n",
    "with open('template_text/about.txt', mode='r', encoding='utf-8') as f:\n",
    "    content = f.read()\n",
    "    temp = Template(content)\n",
    "    about = temp.substitute(\n",
    "        STUDENT_NAME = 'Christopher Nindyo',\n",
    "        BATCH_ACADEMY = 'SPARTA',\n",
    "        GITHUB_REPO_LINK = 'https://github.com/ChristoNindyo/Telegram-Chatbot'\n",
    "    )\n",
    "\n",
    "print(about)"
   ]
  },
  {
   "cell_type": "code",
   "execution_count": 36,
   "id": "c4b0e6e0",
   "metadata": {},
   "outputs": [
    {
     "name": "stdout",
     "output_type": "stream",
     "text": [
      "I was developed by *Christopher Nindyo - SPARTA* as [Algoritma Academy](https://algorit.ma/) Data Analytics Specialization capstone project.\n",
      "\n",
      "The data is static and downloaded from [Kaggle](https://www.kaggle.com/madislemsalu/facebook-ad-campaign) provided by [Madis_Lemsalu](https://www.kaggle.com/madislemsalu).\n",
      "\n",
      "Please find the complete script on [GitHub](https://github.com/ChristoNindyo/Telegram-Chatbot)\n",
      "\n",
      "*if you want more information*\n",
      "/help - List of available commands\n",
      "\n",
      ".\n"
     ]
    }
   ],
   "source": [
    "@bot.message_handler(commands=['about'])\n",
    "def send_about(message):\n",
    "    # TO DO: chat_id\n",
    "    chat_id = message.from_user.id\n",
    "\n",
    "    # TO DO: subtitute text with static values\n",
    "    with open('template_text/about.txt', mode='r', encoding='utf-8') as f:\n",
    "        content = f.read()\n",
    "        temp = Template(content)\n",
    "        about = temp.substitute(\n",
    "            STUDENT_NAME = 'Christopher Nindyo',\n",
    "            BATCH_ACADEMY = 'SPARTA',\n",
    "            GITHUB_REPO_LINK = 'https://github.com/ChristoNindyo/Telegram-Chatbot'\n",
    "    )\n",
    "    bot.send_message(\n",
    "        chat_id,\n",
    "        about,\n",
    "        parse_mode='Markdown'\n",
    "    )\n",
    "print(about)"
   ]
  },
  {
   "cell_type": "code",
   "execution_count": 37,
   "id": "e09c5f39",
   "metadata": {},
   "outputs": [
    {
     "name": "stdout",
     "output_type": "stream",
     "text": [
      "Chat ID: 727286868\n",
      "Sender Full Name: Algoritma\n",
      "Message: /help\n"
     ]
    }
   ],
   "source": [
    "# TO DO: chat_id, full_name, message_text\n",
    "chat_id = message.from_user.id\n",
    "\n",
    "first_name = message.from_user.first_name\n",
    "last_name = message.from_user.last_name\n",
    "full_name = f'{first_name} {last_name}' if last_name is not None else first_name\n",
    "\n",
    "message_text = message.text\n",
    "\n",
    "\n",
    "# DO NOT EDIT (FOR CHECKING PURPOSE)\n",
    "print(f\"Chat ID: {chat_id}\")\n",
    "print(f\"Sender Full Name: {full_name}\")\n",
    "print(f\"Message: {message_text}\")"
   ]
  },
  {
   "cell_type": "code",
   "execution_count": 38,
   "id": "59f1346d",
   "metadata": {},
   "outputs": [
    {
     "name": "stdout",
     "output_type": "stream",
     "text": [
      "\n",
      "Hello there Algoritma, I can help you to provide a report on Facebook daily ads for different marketing campaigns.\n",
      "\n",
      "You can control me by sending these commands:\n",
      "\n",
      "*Main Functionality*\n",
      "/summary - Generate text report for selected campaign ID\n",
      "/plot - Visualize report per age group for selected campaign ID\n",
      "\n",
      "*Information*\n",
      "/help - List of available commands\n",
      "/about - About me\n"
     ]
    }
   ],
   "source": [
    "from string import Template\n",
    "\n",
    "# TO DO: subtitute text with variable\n",
    "with open('template_text/welcome.txt', mode='r', encoding='utf-8') as f:\n",
    "    content = f.read()\n",
    "    temp = Template(content)\n",
    "    welcome = temp.substitute(FULL_NAME = full_name)\n",
    "\n",
    "print(welcome)"
   ]
  },
  {
   "cell_type": "code",
   "execution_count": 39,
   "id": "4781165e",
   "metadata": {},
   "outputs": [],
   "source": [
    "@bot.message_handler(commands=['start', 'help'])\n",
    "def send_welcome(message):\n",
    "    # TO DO: chat_id, full_name, message_text\n",
    "    chat_id = message.from_user.id\n",
    "\n",
    "    first_name = message.from_user.first_name\n",
    "    last_name = message.from_user.last_name\n",
    "    full_name = f'{first_name} {last_name}' if last_name is not None else first_name\n",
    "    \n",
    "    # TO DO: subtitute text with variable\n",
    "    with open('template_text/welcome.txt', mode='r', encoding='utf-8') as f:\n",
    "        content = f.read()\n",
    "        temp = Template(content)\n",
    "        welcome = temp.substitute(FULL_NAME = full_name)\n",
    "\n",
    "    bot.send_message(\n",
    "        chat_id,\n",
    "        welcome,\n",
    "        parse_mode='Markdown'\n",
    "    )"
   ]
  },
  {
   "cell_type": "code",
   "execution_count": null,
   "id": "833c4e27",
   "metadata": {},
   "outputs": [],
   "source": [
    "bot.polling()"
   ]
  },
  {
   "cell_type": "code",
   "execution_count": null,
   "id": "1a82eeaa",
   "metadata": {},
   "outputs": [],
   "source": []
  }
 ],
 "metadata": {
  "kernelspec": {
   "display_name": "capstone-telebot",
   "language": "python",
   "name": "capstone-telebot"
  },
  "language_info": {
   "codemirror_mode": {
    "name": "ipython",
    "version": 3
   },
   "file_extension": ".py",
   "mimetype": "text/x-python",
   "name": "python",
   "nbconvert_exporter": "python",
   "pygments_lexer": "ipython3",
   "version": "3.8.13"
  }
 },
 "nbformat": 4,
 "nbformat_minor": 5
}
