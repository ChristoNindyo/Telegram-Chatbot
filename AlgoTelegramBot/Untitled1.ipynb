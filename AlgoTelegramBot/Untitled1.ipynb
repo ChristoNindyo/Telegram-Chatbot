{
 "cells": [
  {
   "cell_type": "code",
   "execution_count": 3,
   "id": "8a09ab08",
   "metadata": {},
   "outputs": [
    {
     "ename": "IndentationError",
     "evalue": "unindent does not match any outer indentation level (bot_local.py, line 135)",
     "output_type": "error",
     "traceback": [
      "Traceback \u001b[1;36m(most recent call last)\u001b[0m:\n",
      "  File \u001b[0;32m~\\anaconda3\\envs\\capstone-telebot\\lib\\site-packages\\IPython\\core\\interactiveshell.py:3398\u001b[0m in \u001b[0;35mrun_code\u001b[0m\n    exec(code_obj, self.user_global_ns, self.user_ns)\n",
      "\u001b[1;36m  Input \u001b[1;32mIn [3]\u001b[1;36m in \u001b[1;35m<cell line: 2>\u001b[1;36m\u001b[0m\n\u001b[1;33m    from bot_local import *\u001b[0m\n",
      "\u001b[1;36m  File \u001b[1;32m~\\Downloads\\Algoritma TelegramBot\\AlgoTelegramBot\\bot_local.py:135\u001b[1;36m\u001b[0m\n\u001b[1;33m    markup = telebot.types.ReplyKeyboardMarkup(one_time_keyboard=True)\u001b[0m\n\u001b[1;37m                                                                      ^\u001b[0m\n\u001b[1;31mIndentationError\u001b[0m\u001b[1;31m:\u001b[0m unindent does not match any outer indentation level\n"
     ]
    }
   ],
   "source": [
    "# SETUP: LOAD bot_local.py\n",
    "from bot_local import *\n",
    "\n",
    "# SETUP: FLASK (WEB FRAMEWORK)\n",
    "from flask import Flask, request\n",
    "app = Flask(__name__)\n",
    "\n",
    "# SERVER SIDE: main route\n",
    "@app.route('/' + TOKEN, methods=['POST'])\n",
    "def getMessage():\n",
    "   json_string = request.stream.read().decode(\"utf-8\")\n",
    "   update = telebot.types.Update.de_json(json_string)\n",
    "   bot.process_new_updates([update])\n",
    "   return \"Bot is running\", 200\n",
    "\n",
    "# SERVER SIDE: webhook\n",
    "@app.route(\"/\")\n",
    "def webhook():\n",
    "   bot.remove_webhook()\n",
    "   # TO DO: Edit the value of variable heroku_app_name according to your Heroku application name\n",
    "   heroku_app_name = \"paseosmart\"\n",
    "\n",
    "   # NOTE: You need to use a publically available URL that the Telegram servers can reach.\n",
    "   bot.set_webhook(url=f'https://{heroku_app_name}.herokuapp.com/{TOKEN}')\n",
    "   return \"Bot is running\", 200\n",
    "\n",
    "if __name__ == \"__main__\":\n",
    "    app.run()"
   ]
  },
  {
   "cell_type": "code",
   "execution_count": null,
   "id": "c6892abc",
   "metadata": {},
   "outputs": [],
   "source": []
  }
 ],
 "metadata": {
  "kernelspec": {
   "display_name": "capstone-telebot",
   "language": "python",
   "name": "capstone-telebot"
  },
  "language_info": {
   "codemirror_mode": {
    "name": "ipython",
    "version": 3
   },
   "file_extension": ".py",
   "mimetype": "text/x-python",
   "name": "python",
   "nbconvert_exporter": "python",
   "pygments_lexer": "ipython3",
   "version": "3.8.13"
  }
 },
 "nbformat": 4,
 "nbformat_minor": 5
}
